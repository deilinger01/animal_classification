{
 "cells": [
  {
   "cell_type": "markdown",
   "metadata": {},
   "source": [
    "# Awsome Project - Recognition of animals"
   ]
  },
  {
   "cell_type": "code",
   "execution_count": 1,
   "metadata": {},
   "outputs": [],
   "source": [
    "import os\n",
    "import torch\n",
    "import torch.nn as nn\n",
    "import torch.optim as optim\n",
    "from torch.utils.data import DataLoader, TensorDataset\n",
    "from torchvision import models, datasets, transforms\n",
    "import numpy as np\n",
    "from sklearn.model_selection import train_test_split\n",
    "import matplotlib.pyplot as plt\n",
    "from scipy.io import wavfile\n",
    "import random"
   ]
  },
  {
   "cell_type": "code",
   "execution_count": 2,
   "metadata": {},
   "outputs": [],
   "source": [
    "INPUT_DIRECTORY = ... # TODO: directory to the Data\n",
    "ANIMALS = ['Bird', 'Cat', 'Chicken', 'Cow', 'Dog', 'Donkey', 'Frog', 'Lion', 'Monkey', 'Sheep']\n",
    "SPECTOGRAM_DIRECTORY = ... # TODO: directory to where the spectogrames should be stored"
   ]
  },
  {
   "cell_type": "code",
   "execution_count": 4,
   "metadata": {},
   "outputs": [],
   "source": [
    "def generate_spectrogram():\n",
    "    fail_process_list = []\n",
    "    for curr_animal in ANIMALS:\n",
    "        count_fails = 0\n",
    "        curr_directory = os.path.join(SPECTOGRAM_DIRECTORY, curr_animal + '/' + curr_animal)\n",
    "        if not os.path.exists(curr_directory):\n",
    "            os.makedirs(curr_directory, exist_ok=True)\n",
    "            input_directory = os.path.join(INPUT_DIRECTORY, curr_animal)\n",
    "            curr_files = [file for file in os.listdir(input_directory) if file.endswith('.wav')]\n",
    "            for filename in curr_files:\n",
    "                try:\n",
    "                    sample_rate, data = wavfile.read(os.path.join(input_directory, filename))\n",
    "                    plt.specgram(data, Fs=sample_rate)\n",
    "                    output_path = os.path.join(curr_directory, filename[:-4] + '_spectrogram.jpg')\n",
    "                    plt.savefig(output_path)\n",
    "                    plt.close()\n",
    "                except Exception as e:\n",
    "                    print(f'Failed to process {filename} for {curr_animal}: {e}')\n",
    "                    count_fails += 1\n",
    "    fail_process_list.append([f'Amount of failed to convert to spectogram with {curr_animal}: {count_fails}'])\n",
    "    for message in fail_process_list:\n",
    "        print(message)"
   ]
  },
  {
   "cell_type": "code",
   "execution_count": 5,
   "metadata": {},
   "outputs": [],
   "source": [
    "def generate_embeddings():\n",
    "    BATCH_SIZE = 32\n",
    "    weights = models.ConvNeXt_Base_Weights.IMAGENET1K_V1\n",
    "    preprocess = weights.transforms()\n",
    "\n",
    "    for curr_animal in ANIMALS:\n",
    "        embedding_path = os.path.join(SPECTOGRAM_DIRECTORY, curr_animal + '_embeddings.npy')\n",
    "        if not os.path.exists(embedding_path):\n",
    "            curr_directory = os.path.join(SPECTOGRAM_DIRECTORY, curr_animal)\n",
    "            dataset = datasets.ImageFolder(root=curr_directory, transform=preprocess)\n",
    "            loader = DataLoader(dataset, batch_size=BATCH_SIZE, shuffle=False, pin_memory=True, num_workers=0)\n",
    "\n",
    "            model = models.convnext_base(weights=weights)\n",
    "            model.eval()\n",
    "            model.to(device)\n",
    "            model = nn.Sequential(*list(model.children())[:-1])\n",
    "            embedding_size = 1024\n",
    "            embeddings = np.zeros((len(dataset), embedding_size))\n",
    "\n",
    "            with torch.no_grad():\n",
    "                for i, (features, _) in enumerate(loader):\n",
    "                    outputs = model(features.to(device))\n",
    "                    embeddings[i * BATCH_SIZE:i * BATCH_SIZE + BATCH_SIZE] = outputs.squeeze().cpu().numpy()\n",
    "\n",
    "            np.save(embedding_path, embeddings)\n"
   ]
  },
  {
   "cell_type": "code",
   "execution_count": 6,
   "metadata": {},
   "outputs": [],
   "source": [
    "def load_data(test_size=0.2):\n",
    "    X, y = [], []\n",
    "    for idx, animal in enumerate(ANIMALS):\n",
    "        embeddings = np.load(os.path.join(SPECTOGRAM_DIRECTORY, animal + '_embeddings.npy'))\n",
    "        mean, std = embeddings.mean(axis=0), embeddings.std(axis=0)\n",
    "        embeddings = (embeddings - mean) / std\n",
    "\n",
    "        X.extend(embeddings)\n",
    "        y.extend([idx] * len(embeddings))\n",
    "\n",
    "    X, y = np.array(X), np.array(y)\n",
    "    X_train, X_test, y_train, y_test = train_test_split(X, y, test_size=test_size, random_state=42)\n",
    "\n",
    "    return torch.tensor(X_train, dtype=torch.float32), torch.tensor(X_test, dtype=torch.float32), torch.tensor(y_train, dtype=torch.long), torch.tensor(y_test, dtype=torch.long)\n"
   ]
  },
  {
   "cell_type": "code",
   "execution_count": 7,
   "metadata": {},
   "outputs": [],
   "source": [
    "class AnimalSoundClassifier(nn.Module):\n",
    "    def __init__(self, input_size):\n",
    "        super(AnimalSoundClassifier, self).__init__()\n",
    "        self.fc1 = nn.Linear(input_size, 512)\n",
    "        self.fc2 = nn.Linear(512, 256)\n",
    "        self.fc3 = nn.Linear(256, 64)\n",
    "        self.fc4 = nn.Linear(64, 10)\n",
    "        self.relu = nn.ReLU()\n",
    "        self.dropout = nn.Dropout(0.5)\n",
    "\n",
    "    def forward(self, x):\n",
    "        x = self.relu(self.fc1(x))\n",
    "        x = self.dropout(x)\n",
    "        x = self.relu(self.fc2(x))\n",
    "        x = self.relu(self.fc3(x))\n",
    "        x = self.fc4(x)\n",
    "        return x"
   ]
  },
  {
   "cell_type": "code",
   "execution_count": 8,
   "metadata": {},
   "outputs": [],
   "source": [
    "def train_model(model, criterion, optimizer, train_loader, num_epochs=20):\n",
    "    for epoch in range(num_epochs):\n",
    "        model.train()\n",
    "        running_loss = 0.0\n",
    "\n",
    "        for inputs, labels in train_loader:\n",
    "            inputs, labels = inputs.to(device), labels.to(device)\n",
    "\n",
    "            optimizer.zero_grad()\n",
    "            outputs = model(inputs)\n",
    "            loss = criterion(outputs, labels)\n",
    "            loss.backward()\n",
    "            optimizer.step()\n",
    "\n",
    "            running_loss += loss.item() * inputs.size(0)\n",
    "\n",
    "        epoch_loss = running_loss / len(train_loader.dataset)\n",
    "        print(f'Epoch [{epoch + 1}/{num_epochs}], Loss: {epoch_loss:.4f}')"
   ]
  },
  {
   "cell_type": "code",
   "execution_count": 9,
   "metadata": {},
   "outputs": [],
   "source": [
    "def test_model(model, test_loader):\n",
    "    model.eval()\n",
    "    correct = 0\n",
    "    total = 0\n",
    "\n",
    "    with torch.no_grad():\n",
    "        for inputs, labels in test_loader:\n",
    "            inputs, labels = inputs.to(device), labels.to(device)\n",
    "            outputs = model(inputs)\n",
    "            _, predicted = torch.max(outputs, 1)\n",
    "            total += labels.size(0)\n",
    "            correct += (predicted == labels).sum().item()\n",
    "\n",
    "    accuracy = correct / total * 100 \n",
    "    print(f'Test Accuracy: {accuracy:.2f}%')"
   ]
  },
  {
   "cell_type": "code",
   "execution_count": 11,
   "metadata": {},
   "outputs": [
    {
     "name": "stdout",
     "output_type": "stream",
     "text": [
      "['Amount of failed to convert to spectogram with Sheep: 0']\n",
      "Epoch [1/30], Loss: 1.9717\n",
      "Epoch [2/30], Loss: 1.4109\n",
      "Epoch [3/30], Loss: 1.0524\n",
      "Epoch [4/30], Loss: 0.8371\n",
      "Epoch [5/30], Loss: 0.6846\n",
      "Epoch [6/30], Loss: 0.4911\n",
      "Epoch [7/30], Loss: 0.3606\n",
      "Epoch [8/30], Loss: 0.3075\n",
      "Epoch [9/30], Loss: 0.2596\n",
      "Epoch [10/30], Loss: 0.2828\n",
      "Epoch [11/30], Loss: 0.1833\n",
      "Epoch [12/30], Loss: 0.1479\n",
      "Epoch [13/30], Loss: 0.1411\n",
      "Epoch [14/30], Loss: 0.1453\n",
      "Epoch [15/30], Loss: 0.1162\n",
      "Epoch [16/30], Loss: 0.0956\n",
      "Epoch [17/30], Loss: 0.1037\n",
      "Epoch [18/30], Loss: 0.1328\n",
      "Epoch [19/30], Loss: 0.1252\n",
      "Epoch [20/30], Loss: 0.0846\n",
      "Epoch [21/30], Loss: 0.0790\n",
      "Epoch [22/30], Loss: 0.0742\n",
      "Epoch [23/30], Loss: 0.0499\n",
      "Epoch [24/30], Loss: 0.0504\n",
      "Epoch [25/30], Loss: 0.0445\n",
      "Epoch [26/30], Loss: 0.0388\n",
      "Epoch [27/30], Loss: 0.0769\n",
      "Epoch [28/30], Loss: 0.0523\n",
      "Epoch [29/30], Loss: 0.0643\n",
      "Epoch [30/30], Loss: 0.0687\n",
      "Test Accuracy: 79.62%\n"
     ]
    }
   ],
   "source": [
    "if __name__ == '__main__':\n",
    "    device = torch.device(\"cuda:0\" if torch.cuda.is_available() else \"cpu\")\n",
    "\n",
    "    generate_spectrogram()\n",
    "    generate_embeddings()\n",
    "    X_train, X_test, y_train, y_test = load_data()\n",
    "\n",
    "    input_size = 1024\n",
    "    learning_rate = 0.001\n",
    "    num_epochs = 30\n",
    "\n",
    "    model = AnimalSoundClassifier(input_size).to(device)\n",
    "    criterion = nn.CrossEntropyLoss()\n",
    "    optimizer = optim.Adam(model.parameters(), lr=learning_rate)\n",
    "\n",
    "    train_loader = DataLoader(TensorDataset(X_train, y_train), batch_size=32, shuffle=True)\n",
    "    test_loader = DataLoader(TensorDataset(X_test, y_test), batch_size=32, shuffle=False)\n",
    "\n",
    "    train_model(model, criterion, optimizer, train_loader, num_epochs=num_epochs)\n",
    "    test_model(model, test_loader)"
   ]
  }
 ],
 "metadata": {
  "kernelspec": {
   "display_name": "eth-pythonML24",
   "language": "python",
   "name": "python3"
  },
  "language_info": {
   "codemirror_mode": {
    "name": "ipython",
    "version": 3
   },
   "file_extension": ".py",
   "mimetype": "text/x-python",
   "name": "python",
   "nbconvert_exporter": "python",
   "pygments_lexer": "ipython3",
   "version": "3.12.3"
  }
 },
 "nbformat": 4,
 "nbformat_minor": 2
}
